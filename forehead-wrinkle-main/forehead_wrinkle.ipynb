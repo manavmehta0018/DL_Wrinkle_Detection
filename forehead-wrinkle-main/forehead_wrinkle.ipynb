{
 "cells": [
  {
   "cell_type": "markdown",
   "metadata": {
    "id": "n47usCAR1bAT"
   },
   "source": [
    "# Forehead Wrinkle Matching\n",
    "We perform image matching using some popular methods like SIFT, SURF, ArcFace, ORB, AKAZE, BRISK and SSIM. "
   ]
  },
  {
   "cell_type": "code",
   "execution_count": null,
   "metadata": {
    "colab": {
     "base_uri": "https://localhost:8080/"
    },
    "id": "3YWRmv6SBLxS",
    "outputId": "b269aae5-3dd6-4a56-8ba9-a62fa461de52"
   },
   "outputs": [],
   "source": [
    "!pip uninstall opencv-python\n",
    "!pip install opencv-contrib-python==3.4.2.17"
   ]
  },
  {
   "cell_type": "code",
   "execution_count": null,
   "metadata": {
    "id": "fweIRZkO1bAZ"
   },
   "outputs": [],
   "source": [
    "import numpy as np\n",
    "import cv2\n",
    "from matplotlib import pyplot as plt\n",
    "import os\n",
    "from natsort import natsorted\n",
    "import pandas as pd"
   ]
  },
  {
   "cell_type": "code",
   "execution_count": null,
   "metadata": {
    "colab": {
     "base_uri": "https://localhost:8080/"
    },
    "id": "TBMUP8hf3CrC",
    "outputId": "c3d47ea7-6a4f-4a28-91ed-1955def7d466"
   },
   "outputs": [],
   "source": [
    "from google.colab import drive\n",
    "drive.mount('/content/drive')"
   ]
  },
  {
   "cell_type": "raw",
   "metadata": {
    "id": "eaPPhNI61bAb"
   },
   "source": [
    "### Now, for each image, we are going to generate the SIFT features. First, we have to construct a SIFT object and then use the function detectAndCompute to get the keypoints. It will return two values – the keypoints and the descriptors.\n",
    "\n",
    "Next, match the features of each possible pair of images using match() from the BFmatcher (brute force match) module.\n",
    "\n"
   ]
  },
  {
   "cell_type": "code",
   "execution_count": null,
   "metadata": {
    "id": "Ua5vQ9hsU-3A"
   },
   "outputs": [],
   "source": [
    "def img_enhance(img):\n",
    "    img = cv2.cvtColor(img, cv2.COLOR_BGR2GRAY)\n",
    "    img = cv2.GaussianBlur(img, (3, 3), 0)\n",
    "    clahe = cv2.createCLAHE(clipLimit=5.0)\n",
    "    img = clahe.apply(img)\n",
    "    return img"
   ]
  },
  {
   "cell_type": "code",
   "execution_count": null,
   "metadata": {
    "id": "1nP4gJSup3wp"
   },
   "outputs": [],
   "source": [
    "def calc_scores(thresh, genuine, imposter):\n",
    "    tp = 0\n",
    "    fp = 0\n",
    "    tn = 0\n",
    "    fn = 0\n",
    "    for g in genuine:\n",
    "        if g < thresh:\n",
    "            fn += 1\n",
    "        else:\n",
    "            tp += 1\n",
    "    \n",
    "    for i in imposter:\n",
    "        if i < thresh:\n",
    "            tn += 1\n",
    "        else:\n",
    "            fp += 1\n",
    "    return (tp+tn)/(tp+tn+fp+fn), fp/(fp+tn), fn/(fn+tp)"
   ]
  },
  {
   "cell_type": "code",
   "execution_count": null,
   "metadata": {
    "id": "l-D4wVFnqBoT"
   },
   "outputs": [],
   "source": [
    "threshes = np.arange(0, 1, 0.0001).tolist()"
   ]
  },
  {
   "cell_type": "markdown",
   "metadata": {
    "id": "3PJYFufM0Ho3"
   },
   "source": [
    "# SIFT"
   ]
  },
  {
   "cell_type": "code",
   "execution_count": null,
   "metadata": {
    "id": "adWRHBwt1bAc"
   },
   "outputs": [],
   "source": [
    "file1 = open(\"/content/drive/MyDrive/Colab Notebooks/output_SIFT.csv\", \"w\")\n",
    "path1 = '/content/drive/MyDrive/Colab Notebooks/forehead_dataset/'"
   ]
  },
  {
   "cell_type": "code",
   "execution_count": null,
   "metadata": {
    "colab": {
     "base_uri": "https://localhost:8080/"
    },
    "id": "2c8OLR-F1bAe",
    "outputId": "d6a056d9-0803-4988-8c1d-f89e6372d5dc"
   },
   "outputs": [],
   "source": [
    "sift = cv2.xfeatures2d.SIFT_create()\n",
    "bf = cv2.BFMatcher()\n",
    "for images in natsorted(os.listdir(path1)):\n",
    "    str1 = str(images)\n",
    "    img1 = os.path.join(path1, images)\n",
    "    img1 = cv2.imread(img1)\n",
    "    img1 = img_enhance(img1)\n",
    "    kp1, des1 = sift.detectAndCompute(img1,None)\n",
    "    if len(kp1)>0:\n",
    "       for image in natsorted(os.listdir(path1)):\n",
    "           img2 = os.path.join(path1, image)\n",
    "           str2 = str(image)\n",
    "           if (str1.split(\"_\")[2]==str2.split(\"_\")[2]):\n",
    "               continue\n",
    "           if (img1 != img2):\n",
    "               img2 = cv2.imread(img2)\n",
    "               img2 = img_enhance(img2)\n",
    "               kp2, des2 = sift.detectAndCompute(img2,None)\n",
    "          \n",
    "               if des1 is None:\n",
    "                 file1.write( str1 + \" \" + str2 + \" \" + \"0\" +\"\\n\")\n",
    "                 print(str1 + \" \" + str2 + \" \" + str(score))\n",
    "                 continue\n",
    "               if des2 is None:\n",
    "                 file1.write( str1 + \" \" + str2 + \" \" + \"0\"+\"\\n\")\n",
    "                 print(str1 + \" \" + str2 + \" \" + str(score))\n",
    "                 continue\n",
    "               matches = bf.knnMatch(des1,des2, k=2)\n",
    "               dis = bf.match(des1,des2)\n",
    "            #----------------------------------------------\n",
    "               number_keypoints = 0\n",
    "               if len(kp1) <= len(kp2):\n",
    "                   number_keypoints = len(kp1)\n",
    "               else:\n",
    "                   number_keypoints = len(kp2)\n",
    "               good = []\n",
    "               try:\n",
    "                 for m,n in matches:\n",
    "                     if m.distance < 0.9*n.distance:\n",
    "                         good.append([m])\n",
    "               except:\n",
    "                 pass \n",
    "               score = len(good) / number_keypoints\n",
    "               if(score>1):\n",
    "                 file1.write( str1 + \" \" + str2 + \" \" + \"1.0\"+\"\\n\")\n",
    "                 print(str1 + \" \" + str2 + \" \" + \"1.0\")\n",
    "               else:\n",
    "                 file1.write( str1 + \" \" + str2 + \" \" + str(score)+\"\\n\")\n",
    "                 print(str1 + \" \" + str2 + \" \" + str(score))"
   ]
  },
  {
   "cell_type": "code",
   "execution_count": null,
   "metadata": {
    "id": "3FSYzqlqVLBD"
   },
   "outputs": [],
   "source": [
    "file1.close()"
   ]
  },
  {
   "cell_type": "code",
   "execution_count": null,
   "metadata": {
    "colab": {
     "base_uri": "https://localhost:8080/",
     "height": 417
    },
    "id": "2zsYR1LEKE5x",
    "outputId": "0577634d-5ca2-40a3-8040-004ce39adb38"
   },
   "outputs": [],
   "source": [
    "df = pd.read_csv(\"/content/drive/MyDrive/Colab Notebooks/output_SIFT.csv\", header=None)\n",
    "df"
   ]
  },
  {
   "cell_type": "code",
   "execution_count": null,
   "metadata": {
    "id": "FbGhFngPOr5Z"
   },
   "outputs": [],
   "source": [
    "genuine = []\n",
    "imposter = []"
   ]
  },
  {
   "cell_type": "code",
   "execution_count": null,
   "metadata": {
    "colab": {
     "base_uri": "https://localhost:8080/"
    },
    "id": "Ryj_q7KwViCg",
    "outputId": "c0f91ca5-10ce-4667-bf5d-6dc036535ee0"
   },
   "outputs": [],
   "source": [
    "for i in df[0]:\n",
    "  print(i)\n",
    "  str1 = i.split()\n",
    "  a = str1[0].split(\"_\") \n",
    "  b = str1[1].split(\"_\")\n",
    "  if (a[0]==b[0]):\n",
    "    genuine.append(float(str1[2]))\n",
    "  else:\n",
    "    imposter.append(float(str1[2]))"
   ]
  },
  {
   "cell_type": "code",
   "execution_count": null,
   "metadata": {
    "colab": {
     "base_uri": "https://localhost:8080/",
     "height": 266
    },
    "id": "U69ETsrzV7zA",
    "outputId": "21fc7bcb-0aeb-4264-b8fa-8bbccc621b2b"
   },
   "outputs": [],
   "source": [
    "bins = np.linspace(0, 1, 100)\n",
    "from matplotlib import pyplot\n",
    "pyplot.hist(imposter, bins, alpha=0.25, label='imposter', weights=np.ones(len(imposter)) / len(imposter), histtype = 'stepfilled', align = 'mid')\n",
    "pyplot.hist(genuine, bins, alpha=0.5, label='genuine', weights=np.ones(len(genuine)) / len(genuine), histtype = 'stepfilled')\n",
    "pyplot.legend(loc='upper right')\n",
    "pyplot.show()"
   ]
  },
  {
   "cell_type": "code",
   "execution_count": null,
   "metadata": {
    "colab": {
     "base_uri": "https://localhost:8080/",
     "height": 296
    },
    "id": "r33HVDlqqLVF",
    "outputId": "9b087cf8-813e-43b5-d806-09bd599be87b"
   },
   "outputs": [],
   "source": [
    "scores_sift = {}\n",
    "crr_sift = []\n",
    "far_sift = []\n",
    "frr_sift = []\n",
    "eer_thresh_sift = 1000\n",
    "eer_diff_sift = 1000\n",
    "crrSift = 10000\n",
    "for thresh in threshes:\n",
    "    scores_sift[thresh] = calc_scores(thresh, genuine, imposter)\n",
    "    crr_sift.append(scores_sift[thresh][0])\n",
    "    far_sift.append(scores_sift[thresh][1])\n",
    "    frr_sift.append(scores_sift[thresh][2])\n",
    "    if(abs(scores_sift[thresh][1]-scores_sift[thresh][2])<eer_diff_sift):\n",
    "      eer_diff_sift = abs(scores_sift[thresh][1]-scores_sift[thresh][2])\n",
    "      eer_thresh_sift = thresh\n",
    "      crrSift = scores_sift[thresh][0]\n",
    "plt.plot(far_sift, frr_sift)\n",
    "plt.xlabel('False Acceptance Rate')\n",
    "plt.ylabel('False Rejection Rate')\n",
    "plt.show()\n",
    "print(\"eer_diff=\",eer_diff_sift,\" eer_thresh=\",eer_thresh_sift)"
   ]
  },
  {
   "cell_type": "code",
   "execution_count": null,
   "metadata": {
    "colab": {
     "base_uri": "https://localhost:8080/"
    },
    "id": "K4AwLuwweck2",
    "outputId": "bf230df4-53b2-4ed6-a39f-3017a3d0f0ab"
   },
   "outputs": [],
   "source": [
    "crrSift"
   ]
  },
  {
   "cell_type": "markdown",
   "metadata": {
    "id": "g37miopWfrom"
   },
   "source": [
    "# SURF"
   ]
  },
  {
   "cell_type": "code",
   "execution_count": null,
   "metadata": {
    "id": "Hcb3tWRi0WoT"
   },
   "outputs": [],
   "source": [
    "file1 = open(\"/content/drive/MyDrive/Colab Notebooks/output_SURF.csv\", \"w\")\n",
    "path1 = '/content/drive/MyDrive/Colab Notebooks/forehead_dataset/'"
   ]
  },
  {
   "cell_type": "code",
   "execution_count": null,
   "metadata": {
    "colab": {
     "base_uri": "https://localhost:8080/"
    },
    "id": "VlcNWcjPhS1E",
    "outputId": "10e3b7ed-e01b-422a-80ed-d1f48e095148"
   },
   "outputs": [],
   "source": [
    "surf = cv2.xfeatures2d.SURF_create(400)\n",
    "bf = cv2.BFMatcher()\n",
    "for images in natsorted(os.listdir(path1)):\n",
    "    str1 = str(images)\n",
    "    img1 = os.path.join(path1, images)\n",
    "    #print(img1)\n",
    "    img1 = cv2.imread(img1)\n",
    "    img1 = img_enhance(img1)\n",
    "    kp1, des1 = surf.detectAndCompute(img1,None)\n",
    "    if len(kp1)>0:\n",
    "       for image in natsorted(os.listdir(path1)):\n",
    "           img2 = os.path.join(path1, image)\n",
    "           str2 = str(image)\n",
    "           if (str1.split(\"_\")[2]==str2.split(\"_\")[2]):\n",
    "               #print(str1.split(\"_\"))\n",
    "               continue\n",
    "           if (img1 != img2):\n",
    "               img2 = cv2.imread(img2)\n",
    "               img2 = img_enhance(img2)\n",
    "               kp2, des2 = surf.detectAndCompute(img2,None)\n",
    "          \n",
    "               if des1 is None:\n",
    "                 file1.write( str1 + \" \" + str2 + \" \" + \"0\" +\"\\n\")\n",
    "                 print(str1 + \" \" + str2 + \" \" + str(score))\n",
    "                 continue\n",
    "               if des2 is None:\n",
    "                 file1.write( str1 + \" \" + str2 + \" \" + \"0\"+\"\\n\")\n",
    "                 print(str1 + \" \" + str2 + \" \" + str(score))\n",
    "                 continue\n",
    "              #  print(des1)\n",
    "              #  print(des2)\n",
    "              #  print(type(des1),type(des2))\n",
    "               matches = bf.knnMatch(des1,des2, k=2)\n",
    "               dis = bf.match(des1,des2)\n",
    "            #----------------------------------------------\n",
    "               number_keypoints = 0\n",
    "               if len(kp1) <= len(kp2):\n",
    "                   number_keypoints = len(kp1)\n",
    "               else:\n",
    "                   number_keypoints = len(kp2)\n",
    "               good = []\n",
    "               #print(matches)\n",
    "               try:\n",
    "                 for m,n in matches:\n",
    "                     if m.distance < 0.9*n.distance:\n",
    "                         good.append([m])\n",
    "               except:\n",
    "                 pass \n",
    "               score = len(good) / number_keypoints\n",
    "               if(score>1):\n",
    "                 file1.write( str1 + \" \" + str2 + \" \" + \"1.0\"+\"\\n\")\n",
    "                 print(str1 + \" \" + str2 + \" \" + \"1.0\")\n",
    "               else:\n",
    "                 file1.write( str1 + \" \" + str2 + \" \" + str(score)+\"\\n\")\n",
    "                 print(str1 + \" \" + str2 + \" \" + str(score))"
   ]
  },
  {
   "cell_type": "code",
   "execution_count": null,
   "metadata": {
    "colab": {
     "base_uri": "https://localhost:8080/"
    },
    "id": "g2RylPTM00vx",
    "outputId": "f070a8ac-727e-48da-80c7-ce7fa912993c"
   },
   "outputs": [],
   "source": [
    "file1.close()\n",
    "genuine = []\n",
    "imposter = []\n",
    "df = pd.read_csv(\"/content/drive/MyDrive/Colab Notebooks/output_SURF.csv\", header=None)\n",
    "for i in df[0]:\n",
    "  print(i)\n",
    "  str1 = i.split()\n",
    "  a = str1[0].split(\"_\") \n",
    "  b = str1[1].split(\"_\")\n",
    "  if (a[0]==b[0]):\n",
    "    genuine.append(float(str1[2]))\n",
    "  else:\n",
    "    imposter.append(float(str1[2]))"
   ]
  },
  {
   "cell_type": "code",
   "execution_count": null,
   "metadata": {
    "colab": {
     "base_uri": "https://localhost:8080/",
     "height": 267
    },
    "id": "cXW-K-GR1Fld",
    "outputId": "d014ac70-a24c-4709-da79-f8168684e504"
   },
   "outputs": [],
   "source": [
    "bins = np.linspace(0, 1, 50)\n",
    "from matplotlib import pyplot\n",
    "pyplot.hist(imposter, bins, alpha=0.25, label='imposter', weights=np.ones(len(imposter)) / len(imposter), histtype = 'stepfilled', align = 'mid')\n",
    "pyplot.hist(genuine, bins, alpha=0.5, label='genuine', weights=np.ones(len(genuine)) / len(genuine), histtype = 'stepfilled')\n",
    "pyplot.legend(loc='upper right')\n",
    "pyplot.show()"
   ]
  },
  {
   "cell_type": "code",
   "execution_count": null,
   "metadata": {
    "colab": {
     "base_uri": "https://localhost:8080/",
     "height": 296
    },
    "id": "0SRLLqCLDyEk",
    "outputId": "272d0640-3151-4236-eaee-16bf94591167"
   },
   "outputs": [],
   "source": [
    "scores_surf = {}\n",
    "crr_surf = []\n",
    "far_surf = []\n",
    "frr_surf = []\n",
    "eer_thresh_surf = 1000\n",
    "eer_diff_surf = 1000\n",
    "crrSurf = 1000\n",
    "for thresh in threshes:\n",
    "    scores_surf[thresh] = calc_scores(thresh, genuine, imposter)\n",
    "    crr_surf.append(scores_surf[thresh][0])\n",
    "    far_surf.append(scores_surf[thresh][1])\n",
    "    frr_surf.append(scores_surf[thresh][2])\n",
    "    if(abs(scores_surf[thresh][1]-scores_surf[thresh][2])<eer_diff_surf):\n",
    "      eer_diff_surf = abs(scores_surf[thresh][1]-scores_surf[thresh][2])\n",
    "      eer_thresh_surf = thresh\n",
    "      crrSurf = scores_surf[thresh][0]\n",
    "plt.plot(far_surf, frr_surf)\n",
    "plt.xlabel('False Acceptance Rate')\n",
    "plt.ylabel('False Rejection Rate')\n",
    "plt.show()\n",
    "print(\"eer_diff=\",eer_diff_surf,\" eer_thresh=\",eer_thresh_surf)"
   ]
  },
  {
   "cell_type": "code",
   "execution_count": null,
   "metadata": {
    "colab": {
     "base_uri": "https://localhost:8080/"
    },
    "id": "sVjW_Wb5feJ2",
    "outputId": "d9c0e475-76cc-46a6-9dc9-2447c7f36035"
   },
   "outputs": [],
   "source": [
    "crrSurf"
   ]
  },
  {
   "cell_type": "markdown",
   "metadata": {
    "id": "g7C1yoeJRPhA"
   },
   "source": []
  },
  {
   "cell_type": "markdown",
   "metadata": {
    "id": "1vNDgW33Wpp9"
   },
   "source": [
    "# ArcFace"
   ]
  },
  {
   "cell_type": "code",
   "execution_count": null,
   "metadata": {
    "colab": {
     "base_uri": "https://localhost:8080/",
     "height": 1000
    },
    "id": "zvPshJh5WrSq",
    "outputId": "6a0fbc18-ac2f-4938-df84-3c71d6619f36"
   },
   "outputs": [],
   "source": [
    "!pip install arcface"
   ]
  },
  {
   "cell_type": "code",
   "execution_count": null,
   "metadata": {
    "id": "uAOOUdcl7p3L"
   },
   "outputs": [],
   "source": [
    "from arcface import ArcFace\n",
    "from sklearn.metrics.pairwise import cosine_similarity\n",
    "from scipy.spatial import distance"
   ]
  },
  {
   "cell_type": "code",
   "execution_count": null,
   "metadata": {
    "id": "c20NUtJs5EKQ"
   },
   "outputs": [],
   "source": [
    "file1 = open(\"/content/drive/MyDrive/Colab Notebooks/output_arcface.csv\", \"w\")\n",
    "path1 = '/content/drive/MyDrive/Colab Notebooks/forehead_dataset/'"
   ]
  },
  {
   "cell_type": "code",
   "execution_count": null,
   "metadata": {
    "colab": {
     "base_uri": "https://localhost:8080/"
    },
    "id": "_IM-FRjk5Y1m",
    "outputId": "8a4c1ad3-debe-4589-95ca-1e6c42817ab7"
   },
   "outputs": [],
   "source": [
    "arcface = ArcFace.ArcFace()\n",
    "for images in natsorted(os.listdir(path1)):\n",
    "    str1 = str(images)\n",
    "    if str1=='.ipynb_checkpoints':\n",
    "        continue\n",
    "    img1 = os.path.join(path1, images)\n",
    "    img1 = cv2.imread(img1)\n",
    "    emb1 = arcface.calc_emb(img1)\n",
    "    if len(emb1)>0:\n",
    "       for image in natsorted(os.listdir(path1)):\n",
    "           img2 = os.path.join(path1, image)\n",
    "           str2 = str(image)\n",
    "           if str1 == '.ipynb_checkpoints' or str2 == '.ipynb_checkpoints':\n",
    "               continue\n",
    "           if (str1.split(\"_\")[2]==str2.split(\"_\")[2]):\n",
    "               continue\n",
    "           if (img1 != img2):\n",
    "               img2 = cv2.imread(img2)\n",
    "               emb2 = arcface.calc_emb(img2)\n",
    "          \n",
    "               if emb1 is None:\n",
    "                 file1.write(str1 + \" \" + str2 + \" \" + str(0)+\"\\n\")\n",
    "                 print(str1 + \" \" + str2 + \" \" + str(0))\n",
    "                 continue\n",
    "               if emb2 is None:\n",
    "                 file1.write(str1 + \" \" + str2 + \" \" + str(0)+\"\\n\")\n",
    "                 print(str1 + \" \" + str2 + \" \" + str(0))\n",
    "                 continue\n",
    "               dist = distance.cosine(emb1, emb2)\n",
    "               file1.write(str1 + \" \" + str2 + \" \" + str(dist)+\"\\n\")\n",
    "               print(str1 + \" \" + str2 + \" \" + str(dist))"
   ]
  },
  {
   "cell_type": "code",
   "execution_count": null,
   "metadata": {
    "id": "H7GvDB6bPqO3"
   },
   "outputs": [],
   "source": [
    "file1.close()"
   ]
  },
  {
   "cell_type": "code",
   "execution_count": null,
   "metadata": {
    "colab": {
     "base_uri": "https://localhost:8080/"
    },
    "id": "wA4piWui7fs9",
    "outputId": "a6aa0c9d-2a24-47f8-ea07-7931edec9786"
   },
   "outputs": [],
   "source": [
    "genuine = []\n",
    "imposter = []\n",
    "df = pd.read_csv(\"/content/drive/MyDrive/Colab Notebooks/output_arcface.csv\", header=None)\n",
    "for i in df[0]:\n",
    "  print(i)\n",
    "  str1 = i.split()\n",
    "  a = str1[0].split(\"_\") \n",
    "  b = str1[1].split(\"_\")\n",
    "  if (a[0]==b[0]):\n",
    "    genuine.append(1-float(str1[2]))\n",
    "  else:\n",
    "    imposter.append(1-float(str1[2]))"
   ]
  },
  {
   "cell_type": "code",
   "execution_count": null,
   "metadata": {
    "colab": {
     "base_uri": "https://localhost:8080/",
     "height": 265
    },
    "id": "oGeRTLGt9svJ",
    "outputId": "5d413c7f-19db-4161-e82b-cbcb67ccc0ee"
   },
   "outputs": [],
   "source": [
    "bins = np.linspace(0, 1, 100)\n",
    "from matplotlib import pyplot\n",
    "pyplot.hist(imposter, bins, alpha=0.25, label='imposter', weights=np.ones(len(imposter)) / len(imposter), histtype = 'stepfilled', align = 'mid')\n",
    "pyplot.hist(genuine, bins, alpha=0.5, label='genuine', weights=np.ones(len(genuine)) / len(genuine), histtype = 'stepfilled')\n",
    "pyplot.legend(loc='upper right')\n",
    "pyplot.show()"
   ]
  },
  {
   "cell_type": "code",
   "execution_count": null,
   "metadata": {
    "colab": {
     "base_uri": "https://localhost:8080/",
     "height": 296
    },
    "id": "lz6YMCT1E6Ky",
    "outputId": "ff4a9e87-494d-43dd-b53f-5af23b4fb5d5"
   },
   "outputs": [],
   "source": [
    "scores_arc = {}\n",
    "crr_arc = []\n",
    "far_arc = []\n",
    "frr_arc = []\n",
    "eer_thresh_arc = 1000\n",
    "eer_diff_arc = 1000\n",
    "crrArc = 0\n",
    "for thresh in threshes:\n",
    "    scores_arc[thresh] = calc_scores(thresh, genuine, imposter)\n",
    "    crr_arc.append(scores_arc[thresh][0])\n",
    "    far_arc.append(scores_arc[thresh][1])\n",
    "    frr_arc.append(scores_arc[thresh][2])\n",
    "    if(abs(scores_arc[thresh][1]-scores_arc[thresh][2])<eer_diff_arc):\n",
    "      eer_diff_arc = abs(scores_arc[thresh][1]-scores_arc[thresh][2])\n",
    "      eer_thresh_arc = thresh\n",
    "      crrArc = scores_arc[thresh][0]\n",
    "plt.plot(far_arc, frr_arc)\n",
    "plt.xlabel('False Acceptance Rate')\n",
    "plt.ylabel('False Rejection Rate')\n",
    "plt.show()\n",
    "print(\"eer_diff=\",eer_diff_arc,\" eer_thresh=\",eer_thresh_arc)"
   ]
  },
  {
   "cell_type": "code",
   "execution_count": null,
   "metadata": {
    "colab": {
     "base_uri": "https://localhost:8080/"
    },
    "id": "uetvLFRGfzv-",
    "outputId": "8dbc4b40-d23a-41b8-912f-5399fd6e3d36"
   },
   "outputs": [],
   "source": [
    "crrArc"
   ]
  },
  {
   "cell_type": "markdown",
   "metadata": {
    "id": "2krG9REt9FFc"
   },
   "source": [
    "# ORB"
   ]
  },
  {
   "cell_type": "code",
   "execution_count": null,
   "metadata": {
    "id": "FB8IZOdY9tNW"
   },
   "outputs": [],
   "source": [
    "file1 = open(\"/content/drive/MyDrive/Colab Notebooks/output_orb.csv\", \"w\")\n",
    "path1 = '/content/drive/MyDrive/Colab Notebooks/forehead_dataset/'"
   ]
  },
  {
   "cell_type": "code",
   "execution_count": null,
   "metadata": {
    "colab": {
     "base_uri": "https://localhost:8080/"
    },
    "id": "r2Q29HsK_KQn",
    "outputId": "17cbccfa-e7f5-4ea2-c1fd-705ce3960698"
   },
   "outputs": [],
   "source": [
    "orb = cv2.ORB_create()\n",
    "bf = cv2.BFMatcher()\n",
    "for images in natsorted(os.listdir(path1)):\n",
    "    str1 = str(images)\n",
    "    img1 = os.path.join(path1, images)\n",
    "    #print(img1)\n",
    "    img1 = cv2.imread(img1)\n",
    "    img1 = img_enhance(img1)\n",
    "    kp1, des1 = orb.detectAndCompute(img1,None)\n",
    "    if len(kp1)>0:\n",
    "       for image in natsorted(os.listdir(path1)):\n",
    "           img2 = os.path.join(path1, image)\n",
    "           str2 = str(image)\n",
    "           if (str1.split(\"_\")[2]==str2.split(\"_\")[2]):\n",
    "               #print(str1.split(\"_\"))\n",
    "               continue\n",
    "           if (img1 != img2):\n",
    "               img2 = cv2.imread(img2)\n",
    "               img2 = img_enhance(img2)\n",
    "               kp2, des2 = orb.detectAndCompute(img2,None)\n",
    "          \n",
    "               if des1 is None:\n",
    "                 file1.write( str1 + \" \" + str2 + \" \" + \"0\" +\"\\n\")\n",
    "                 print(str1 + \" \" + str2 + \" \" + str(score))\n",
    "                 continue\n",
    "               if des2 is None:\n",
    "                 file1.write( str1 + \" \" + str2 + \" \" + \"0\"+\"\\n\")\n",
    "                 print(str1 + \" \" + str2 + \" \" + str(score))\n",
    "                 continue\n",
    "              #  print(des1)\n",
    "              #  print(des2)\n",
    "              #  print(type(des1),type(des2))\n",
    "               matches = bf.knnMatch(des1,des2, k=2)\n",
    "               dis = bf.match(des1,des2)\n",
    "            #----------------------------------------------\n",
    "               number_keypoints = 0\n",
    "               if len(kp1) <= len(kp2):\n",
    "                   number_keypoints = len(kp1)\n",
    "               else:\n",
    "                   number_keypoints = len(kp2)\n",
    "               good = []\n",
    "               #print(matches)\n",
    "               try:\n",
    "                 for m,n in matches:\n",
    "                     if m.distance < 0.9*n.distance:\n",
    "                         good.append([m])\n",
    "               except:\n",
    "                 pass \n",
    "               score = len(good) / number_keypoints\n",
    "               if(score>1):\n",
    "                 file1.write( str1 + \" \" + str2 + \" \" + \"1.0\"+\"\\n\")\n",
    "                 print(str1 + \" \" + str2 + \" \" + \"1.0\")\n",
    "               else:\n",
    "                 file1.write( str1 + \" \" + str2 + \" \" + str(score)+\"\\n\")\n",
    "                 print(str1 + \" \" + str2 + \" \" + str(score))"
   ]
  },
  {
   "cell_type": "code",
   "execution_count": null,
   "metadata": {
    "colab": {
     "base_uri": "https://localhost:8080/"
    },
    "id": "pXileL7cCuc9",
    "outputId": "7ad9a491-3b3c-48c3-f326-ba58920a8f15"
   },
   "outputs": [],
   "source": [
    "file1.close()\n",
    "genuine = []\n",
    "imposter = []\n",
    "df = pd.read_csv(\"/content/drive/MyDrive/Colab Notebooks/output_orb.csv\", header=None)\n",
    "for i in df[0]:\n",
    "  print(i)\n",
    "  str1 = i.split()\n",
    "  a = str1[0].split(\"_\") \n",
    "  b = str1[1].split(\"_\")\n",
    "  if (a[0]==b[0]):\n",
    "    genuine.append(float(str1[2]))\n",
    "  else:\n",
    "    imposter.append(float(str1[2]))"
   ]
  },
  {
   "cell_type": "code",
   "execution_count": null,
   "metadata": {
    "colab": {
     "base_uri": "https://localhost:8080/",
     "height": 265
    },
    "id": "Xy5zeylJCwtc",
    "outputId": "19d5d35c-c895-4521-e200-feb50b98b167"
   },
   "outputs": [],
   "source": [
    "bins = np.linspace(0, 1, 100)\n",
    "from matplotlib import pyplot\n",
    "pyplot.hist(imposter, bins, alpha=0.25, label='imposter', weights=np.ones(len(imposter)) / len(imposter), histtype = 'stepfilled', align = 'mid')\n",
    "pyplot.hist(genuine, bins, alpha=0.5, label='genuine', weights=np.ones(len(genuine)) / len(genuine), histtype = 'stepfilled')\n",
    "pyplot.legend(loc='upper right')\n",
    "pyplot.show()"
   ]
  },
  {
   "cell_type": "code",
   "execution_count": null,
   "metadata": {
    "colab": {
     "base_uri": "https://localhost:8080/",
     "height": 296
    },
    "id": "yPnPNJ5WFWe7",
    "outputId": "2bc80a1b-f8dc-4b0e-8ac7-e51371839ac8"
   },
   "outputs": [],
   "source": [
    "scores_orb = {}\n",
    "crr_orb = []\n",
    "far_orb = []\n",
    "frr_orb = []\n",
    "eer_thresh_orb = 1000000000000\n",
    "eer_diff_orb = 1000000000000\n",
    "crrOrb = 1000\n",
    "for thresh in threshes:\n",
    "    scores_orb[thresh] = calc_scores(thresh, genuine, imposter)\n",
    "    crr_orb.append(scores_orb[thresh][0])\n",
    "    far_orb.append(scores_orb[thresh][1])\n",
    "    frr_orb.append(scores_orb[thresh][2])\n",
    "    if(abs(scores_orb[thresh][1]-scores_orb[thresh][2])<eer_diff_orb):\n",
    "      eer_diff_orb = abs(scores_orb[thresh][1]-scores_orb[thresh][2])\n",
    "      eer_thresh_orb = thresh\n",
    "      crrOrb = scores_orb[thresh][0]\n",
    "plt.plot(far_orb, frr_orb)\n",
    "plt.xlabel('False Acceptance Rate')\n",
    "plt.ylabel('False Rejection Rate')\n",
    "plt.show()\n",
    "print(\"eer_diff=\",eer_diff_orb,\" eer_thresh=\",eer_thresh_orb)"
   ]
  },
  {
   "cell_type": "code",
   "execution_count": null,
   "metadata": {
    "colab": {
     "base_uri": "https://localhost:8080/"
    },
    "id": "puxoSvo2hFkd",
    "outputId": "75f7ce6c-5f70-4fad-bc87-63b41cdd4d28"
   },
   "outputs": [],
   "source": [
    "crrOrb"
   ]
  },
  {
   "cell_type": "markdown",
   "metadata": {
    "id": "-Sjn1ka84IBm"
   },
   "source": [
    "# AKAZE"
   ]
  },
  {
   "cell_type": "code",
   "execution_count": null,
   "metadata": {
    "id": "wCTVRLoWC6DL"
   },
   "outputs": [],
   "source": [
    "file1 = open(\"/content/drive/MyDrive/Colab Notebooks/output_akaze.csv\", \"w\")\n",
    "path1 = '/content/drive/MyDrive/Colab Notebooks/forehead_dataset/'"
   ]
  },
  {
   "cell_type": "code",
   "execution_count": null,
   "metadata": {
    "colab": {
     "base_uri": "https://localhost:8080/"
    },
    "id": "Z8JVY0gj4Oyd",
    "outputId": "1c4987e9-403a-4b9e-abb1-02e248589aa5"
   },
   "outputs": [],
   "source": [
    "akaze = cv2.AKAZE_create()\n",
    "bf = cv2.BFMatcher()\n",
    "for images in natsorted(os.listdir(path1)):\n",
    "    str1 = str(images)\n",
    "    img1 = os.path.join(path1, images)\n",
    "    #print(img1)\n",
    "    img1 = cv2.imread(img1)\n",
    "    img1 = img_enhance(img1)\n",
    "    kp1, des1 = akaze.detectAndCompute(img1,None)\n",
    "    if len(kp1)>0:\n",
    "       for image in natsorted(os.listdir(path1)):\n",
    "           img2 = os.path.join(path1, image)\n",
    "           str2 = str(image)\n",
    "           if (str1.split(\"_\")[2]==str2.split(\"_\")[2]):\n",
    "               #print(str1.split(\"_\"))\n",
    "               continue\n",
    "           if (img1 != img2):\n",
    "               img2 = cv2.imread(img2)\n",
    "               img2 = img_enhance(img2)\n",
    "               kp2, des2 = akaze.detectAndCompute(img2,None)\n",
    "          \n",
    "               if des1 is None:\n",
    "                 file1.write( str1 + \" \" + str2 + \" \" + \"0\" +\"\\n\")\n",
    "                 print(str1 + \" \" + str2 + \" \" + str(score))\n",
    "                 continue\n",
    "               if des2 is None:\n",
    "                 file1.write( str1 + \" \" + str2 + \" \" + \"0\"+\"\\n\")\n",
    "                 print(str1 + \" \" + str2 + \" \" + str(score))\n",
    "                 continue\n",
    "              #  print(des1)\n",
    "              #  print(des2)\n",
    "              #  print(type(des1),type(des2))\n",
    "               matches = bf.knnMatch(des1,des2, k=2)\n",
    "               dis = bf.match(des1,des2)\n",
    "            #----------------------------------------------\n",
    "               number_keypoints = 0\n",
    "               if len(kp1) <= len(kp2):\n",
    "                   number_keypoints = len(kp1)\n",
    "               else:\n",
    "                   number_keypoints = len(kp2)\n",
    "               good = []\n",
    "               #print(matches)\n",
    "               try:\n",
    "                 for m,n in matches:\n",
    "                     if m.distance < 0.9*n.distance:\n",
    "                         good.append([m])\n",
    "               except:\n",
    "                 pass \n",
    "               score = len(good) / number_keypoints\n",
    "               if(score>1):\n",
    "                 file1.write( str1 + \" \" + str2 + \" \" + \"1.0\"+\"\\n\")\n",
    "                 print(str1 + \" \" + str2 + \" \" + \"1.0\")\n",
    "               else:\n",
    "                 file1.write( str1 + \" \" + str2 + \" \" + str(score)+\"\\n\")\n",
    "                 print(str1 + \" \" + str2 + \" \" + str(score))"
   ]
  },
  {
   "cell_type": "code",
   "execution_count": null,
   "metadata": {
    "colab": {
     "base_uri": "https://localhost:8080/"
    },
    "id": "0_ARivCn4grf",
    "outputId": "00f5b91c-a3f0-43c0-f760-29d7bfc6cec1"
   },
   "outputs": [],
   "source": [
    "file1.close()\n",
    "genuine = []\n",
    "imposter = []\n",
    "df = pd.read_csv(\"/content/drive/MyDrive/Colab Notebooks/output_akaze.csv\", header=None)\n",
    "for i in df[0]:\n",
    "  print(i)\n",
    "  str1 = i.split()\n",
    "  a = str1[0].split(\"_\") \n",
    "  b = str1[1].split(\"_\")\n",
    "  if (a[0]==b[0]):\n",
    "    genuine.append(float(str1[2]))\n",
    "  else:\n",
    "    imposter.append(float(str1[2]))"
   ]
  },
  {
   "cell_type": "code",
   "execution_count": null,
   "metadata": {
    "colab": {
     "base_uri": "https://localhost:8080/",
     "height": 265
    },
    "id": "hdsDCoIn4mgx",
    "outputId": "115b8987-2e4b-48bc-ff7a-2e555aa9caea"
   },
   "outputs": [],
   "source": [
    "bins = np.linspace(0, 1, 100)\n",
    "from matplotlib import pyplot\n",
    "pyplot.hist(imposter, bins, alpha=0.25, label='imposter', weights=np.ones(len(imposter)) / len(imposter), histtype = 'stepfilled', align = 'mid')\n",
    "pyplot.hist(genuine, bins, alpha=0.5, label='genuine', weights=np.ones(len(genuine)) / len(genuine), histtype = 'stepfilled')\n",
    "pyplot.legend(loc='upper right')\n",
    "pyplot.show()"
   ]
  },
  {
   "cell_type": "code",
   "execution_count": null,
   "metadata": {
    "colab": {
     "base_uri": "https://localhost:8080/",
     "height": 296
    },
    "id": "Y1UaabcOGGg0",
    "outputId": "a1251f92-d713-4b09-8b21-1dc512b51af3"
   },
   "outputs": [],
   "source": [
    "scores_akaze = {}\n",
    "crr_akaze = []\n",
    "far_akaze = []\n",
    "frr_akaze = []\n",
    "eer_thresh_akaze = 1000\n",
    "eer_diff_akaze = 1000\n",
    "crrAkaze = 0\n",
    "for thresh in threshes:\n",
    "    scores_akaze[thresh] = calc_scores(thresh, genuine, imposter)\n",
    "    crr_akaze.append(scores_akaze[thresh][0])\n",
    "    far_akaze.append(scores_akaze[thresh][1])\n",
    "    frr_akaze.append(scores_akaze[thresh][2])\n",
    "    if(abs(scores_akaze[thresh][1]-scores_akaze[thresh][2])<eer_diff_akaze):\n",
    "      eer_diff_akaze = abs(scores_akaze[thresh][1]-scores_akaze[thresh][2])\n",
    "      eer_thresh_akaze = thresh\n",
    "      crrAkaze = scores_akaze[thresh][0]\n",
    "plt.plot(far_akaze, frr_akaze)\n",
    "plt.xlabel('False Acceptance Rate')\n",
    "plt.ylabel('False Rejection Rate')\n",
    "plt.show()\n",
    "print(\"eer_diff=\",eer_diff_akaze,\" eer_thresh=\",eer_thresh_akaze)"
   ]
  },
  {
   "cell_type": "code",
   "execution_count": null,
   "metadata": {
    "colab": {
     "base_uri": "https://localhost:8080/"
    },
    "id": "m4Tuy4G-Ubcb",
    "outputId": "68ab48c3-a386-4c75-e6b6-a1ec4f2c26c3"
   },
   "outputs": [],
   "source": [
    "crrAkaze"
   ]
  },
  {
   "cell_type": "markdown",
   "metadata": {
    "id": "Dn3ivW5B6LFE"
   },
   "source": [
    "# BRISK\n",
    "\n"
   ]
  },
  {
   "cell_type": "code",
   "execution_count": null,
   "metadata": {
    "id": "nXfx11-q4smD"
   },
   "outputs": [],
   "source": [
    "file1 = open(\"/content/drive/MyDrive/Colab Notebooks/output_brisk.csv\", \"w\")\n",
    "path1 = '/content/drive/MyDrive/Colab Notebooks/forehead_dataset/'"
   ]
  },
  {
   "cell_type": "code",
   "execution_count": null,
   "metadata": {
    "colab": {
     "base_uri": "https://localhost:8080/"
    },
    "id": "CwCBsHT-6UPx",
    "outputId": "bbd3e2c4-cb69-401a-dded-684ff49a91af"
   },
   "outputs": [],
   "source": [
    "brisk = cv2.BRISK_create()\n",
    "bf = cv2.BFMatcher()\n",
    "for images in natsorted(os.listdir(path1)):\n",
    "    str1 = str(images)\n",
    "    img1 = os.path.join(path1, images)\n",
    "    #print(img1)\n",
    "    img1 = cv2.imread(img1)\n",
    "    img1 = img_enhance(img1)\n",
    "    kp1, des1 = brisk.detectAndCompute(img1,None)\n",
    "    if len(kp1)>0:\n",
    "       for image in natsorted(os.listdir(path1)):\n",
    "           img2 = os.path.join(path1, image)\n",
    "           str2 = str(image)\n",
    "           if (str1.split(\"_\")[2]==str2.split(\"_\")[2]):\n",
    "               #print(str1.split(\"_\"))\n",
    "               continue\n",
    "           if (img1 != img2):\n",
    "               img2 = cv2.imread(img2)\n",
    "               img2 = img_enhance(img2)\n",
    "               kp2, des2 = brisk.detectAndCompute(img2,None)\n",
    "          \n",
    "               if des1 is None:\n",
    "                 file1.write( str1 + \" \" + str2 + \" \" + \"0\" +\"\\n\")\n",
    "                 print(str1 + \" \" + str2 + \" \" + str(score))\n",
    "                 continue\n",
    "               if des2 is None:\n",
    "                 file1.write( str1 + \" \" + str2 + \" \" + \"0\"+\"\\n\")\n",
    "                 print(str1 + \" \" + str2 + \" \" + str(score))\n",
    "                 continue\n",
    "              #  print(des1)\n",
    "              #  print(des2)\n",
    "              #  print(type(des1),type(des2))\n",
    "               matches = bf.knnMatch(des1,des2, k=2)\n",
    "               dis = bf.match(des1,des2)\n",
    "            #----------------------------------------------\n",
    "               number_keypoints = 0\n",
    "               if len(kp1) <= len(kp2):\n",
    "                   number_keypoints = len(kp1)\n",
    "               else:\n",
    "                   number_keypoints = len(kp2)\n",
    "               good = []\n",
    "               #print(matches)\n",
    "               try:\n",
    "                 for m,n in matches:\n",
    "                     if m.distance < 0.9*n.distance:\n",
    "                         good.append([m])\n",
    "               except:\n",
    "                 pass \n",
    "               score = len(good) / number_keypoints\n",
    "               if(score>1):\n",
    "                 file1.write( str1 + \" \" + str2 + \" \" + \"1.0\"+\"\\n\")\n",
    "                 print(str1 + \" \" + str2 + \" \" + \"1.0\")\n",
    "               else:\n",
    "                 file1.write( str1 + \" \" + str2 + \" \" + str(score)+\"\\n\")\n",
    "                 print(str1 + \" \" + str2 + \" \" + str(score))"
   ]
  },
  {
   "cell_type": "code",
   "execution_count": null,
   "metadata": {
    "colab": {
     "base_uri": "https://localhost:8080/"
    },
    "id": "AoMBAp0T6nUO",
    "outputId": "a5cab924-3bc3-436c-efd0-234f43cfa2c9"
   },
   "outputs": [],
   "source": [
    "file1.close()\n",
    "genuine = []\n",
    "imposter = []\n",
    "df = pd.read_csv(\"/content/drive/MyDrive/Colab Notebooks/output_brisk.csv\", header=None)\n",
    "for i in df[0]:\n",
    "  print(i)\n",
    "  str1 = i.split()\n",
    "  a = str1[0].split(\"_\") \n",
    "  b = str1[1].split(\"_\")\n",
    "  if (a[0]==b[0]):\n",
    "    genuine.append(float(str1[2]))\n",
    "  else:\n",
    "    imposter.append(float(str1[2]))"
   ]
  },
  {
   "cell_type": "code",
   "execution_count": null,
   "metadata": {
    "colab": {
     "base_uri": "https://localhost:8080/",
     "height": 265
    },
    "id": "OwsFGaMx6p5i",
    "outputId": "b3fd8176-ef44-48af-a503-7d8578ae6204"
   },
   "outputs": [],
   "source": [
    "bins = np.linspace(0, 1, 100)\n",
    "from matplotlib import pyplot\n",
    "pyplot.hist(imposter, bins, alpha=0.25, label='imposter', weights=np.ones(len(imposter)) / len(imposter), histtype = 'stepfilled', align = 'mid')\n",
    "pyplot.hist(genuine, bins, alpha=0.5, label='genuine', weights=np.ones(len(genuine)) / len(genuine), histtype = 'stepfilled')\n",
    "pyplot.legend(loc='upper right')\n",
    "pyplot.show()"
   ]
  },
  {
   "cell_type": "code",
   "execution_count": null,
   "metadata": {
    "colab": {
     "base_uri": "https://localhost:8080/",
     "height": 296
    },
    "id": "4dJeEcfa6s_F",
    "outputId": "f2b5e07c-2e91-473d-8a64-640c86acf1d0"
   },
   "outputs": [],
   "source": [
    "scores_brisk = {}\n",
    "crr_brisk = []\n",
    "far_brisk = []\n",
    "frr_brisk = []\n",
    "eer_thresh_brisk = 1000\n",
    "eer_diff_brisk = 1000\n",
    "crrBrisk = 0\n",
    "for thresh in threshes:\n",
    "    scores_brisk[thresh] = calc_scores(thresh, genuine, imposter)\n",
    "    crr_brisk.append(scores_brisk[thresh][0])\n",
    "    far_brisk.append(scores_brisk[thresh][1])\n",
    "    frr_brisk.append(scores_brisk[thresh][2])\n",
    "    if(abs(scores_brisk[thresh][1]-scores_brisk[thresh][2])<eer_diff_brisk):\n",
    "      eer_diff_brisk = abs(scores_brisk[thresh][1]-scores_brisk[thresh][2])\n",
    "      eer_thresh_brisk = thresh\n",
    "      crrBrisk = scores_brisk[thresh][0]\n",
    "plt.plot(far_brisk, frr_brisk)\n",
    "plt.xlabel('False Acceptance Rate')\n",
    "plt.ylabel('False Rejection Rate')\n",
    "plt.show()\n",
    "print(\"eer_diff=\",eer_diff_brisk,\" eer_thresh=\",eer_thresh_brisk)"
   ]
  },
  {
   "cell_type": "code",
   "execution_count": null,
   "metadata": {
    "colab": {
     "base_uri": "https://localhost:8080/"
    },
    "id": "MDDHE_FiUi4e",
    "outputId": "0387e4d3-3834-4b64-e08a-a2bb4dc1fb85"
   },
   "outputs": [],
   "source": [
    "crrBrisk"
   ]
  },
  {
   "cell_type": "markdown",
   "metadata": {
    "id": "mmcM9vURry2s"
   },
   "source": [
    "# SSIM"
   ]
  },
  {
   "cell_type": "code",
   "execution_count": null,
   "metadata": {
    "id": "grkiJONgrx_b"
   },
   "outputs": [],
   "source": [
    "from skimage.metrics import structural_similarity as compare_ssim\n"
   ]
  },
  {
   "cell_type": "code",
   "execution_count": null,
   "metadata": {
    "id": "WIRNkul1sSkT"
   },
   "outputs": [],
   "source": [
    "file1 = open(\"/content/drive/MyDrive/Colab Notebooks/output_ssim.csv\", \"w\")\n",
    "path1 = '/content/drive/MyDrive/Colab Notebooks/forehead_dataset/'"
   ]
  },
  {
   "cell_type": "code",
   "execution_count": null,
   "metadata": {
    "colab": {
     "base_uri": "https://localhost:8080/"
    },
    "id": "v9QFcHmUsjB9",
    "outputId": "8011a4b4-b170-454a-f091-5aeb0a279b67"
   },
   "outputs": [],
   "source": [
    "for images in natsorted(os.listdir(path1)):\n",
    "    str1 = str(images)\n",
    "    if str1=='.ipynb_checkpoints':\n",
    "        continue\n",
    "    img1 = os.path.join(path1, images)\n",
    "    img1 = cv2.imread(img1)\n",
    "    img1 = img_enhance(img1)\n",
    "    for image in natsorted(os.listdir(path1)):\n",
    "        img2 = os.path.join(path1, image)\n",
    "        str2 = str(image)\n",
    "        if str1 == '.ipynb_checkpoints' or str2 == '.ipynb_checkpoints':\n",
    "            continue\n",
    "        if (str1.split(\"_\")[2]==str2.split(\"_\")[2]):\n",
    "            continue\n",
    "        if (img1 != img2):\n",
    "            img2 = cv2.imread(img2)\n",
    "            img2 = img_enhance(img2)\n",
    "            img2=cv2.resize(img2,(img1.shape[1],img1.shape[0]))\n",
    "            (score, diff) = compare_ssim(img1, img2, full=True)\n",
    "            diff = (diff * 255).astype(\"uint8\")       \n",
    "            file1.write(str1 + \" \" + str2 + \" \" + str(score)+\"\\n\")\n",
    "            print(str1 + \" \" + str2 + \" \" + str(score))"
   ]
  },
  {
   "cell_type": "code",
   "execution_count": null,
   "metadata": {
    "colab": {
     "base_uri": "https://localhost:8080/"
    },
    "id": "pFJKZkWlzjH2",
    "outputId": "3c380bc3-020f-4d86-afb6-093e3bfbd06f"
   },
   "outputs": [],
   "source": [
    "file1.close()\n",
    "genuine = []\n",
    "imposter = []\n",
    "df = pd.read_csv(\"/content/drive/MyDrive/Colab Notebooks/output_ssim.csv\", header=None)\n",
    "for i in df[0]:\n",
    "  print(i)\n",
    "  str1 = i.split()\n",
    "  a = str1[0].split(\"_\") \n",
    "  b = str1[1].split(\"_\")\n",
    "  if (a[0]==b[0]):\n",
    "    genuine.append(float(str1[2]))\n",
    "  else:\n",
    "    imposter.append(float(str1[2]))"
   ]
  },
  {
   "cell_type": "code",
   "execution_count": null,
   "metadata": {
    "id": "B5gmKUKz4ZGx"
   },
   "outputs": [],
   "source": [
    "norm_gen = [(float(i)-min(genuine))/(max(genuine)-min(genuine)) for i in genuine]\n",
    "norm_imp = [(float(i)-min(imposter))/(max(imposter)-min(imposter)) for i in imposter]"
   ]
  },
  {
   "cell_type": "code",
   "execution_count": null,
   "metadata": {
    "colab": {
     "base_uri": "https://localhost:8080/",
     "height": 265
    },
    "id": "sSnT3AUmz9DW",
    "outputId": "01851d30-72ff-4ee9-f228-549c2f4152e2"
   },
   "outputs": [],
   "source": [
    "bins = np.linspace(0, 1, 100)\n",
    "from matplotlib import pyplot\n",
    "pyplot.hist(imposter, bins, alpha=0.25, label='imposter', weights=np.ones(len(imposter)) / len(imposter), histtype = 'stepfilled', align = 'mid')\n",
    "pyplot.hist(genuine, bins, alpha=0.5, label='genuine', weights=np.ones(len(genuine)) / len(genuine), histtype = 'stepfilled')\n",
    "pyplot.legend(loc='upper right')\n",
    "pyplot.show()"
   ]
  },
  {
   "cell_type": "code",
   "execution_count": null,
   "metadata": {
    "colab": {
     "base_uri": "https://localhost:8080/",
     "height": 296
    },
    "id": "z6RjqhVv5ssd",
    "outputId": "ad1580c7-701d-4763-80a6-9bb4e2bcb223"
   },
   "outputs": [],
   "source": [
    "scores_ssim = {}\n",
    "crr_ssim = []\n",
    "far_ssim = []\n",
    "frr_ssim = []\n",
    "eer_thresh_ssim = 1000\n",
    "eer_diff_ssim = 1000\n",
    "crrSsim = 0\n",
    "for thresh in threshes:\n",
    "    scores_ssim[thresh] = calc_scores(thresh, genuine, imposter)\n",
    "    crr_ssim.append(scores_ssim[thresh][0])\n",
    "    far_ssim.append(scores_ssim[thresh][1])\n",
    "    frr_ssim.append(scores_ssim[thresh][2])\n",
    "    if(abs(scores_ssim[thresh][1]-scores_ssim[thresh][2])<eer_diff_ssim):\n",
    "      eer_diff_ssim = abs(scores_ssim[thresh][1]-scores_ssim[thresh][2])\n",
    "      eer_thresh_ssim = thresh\n",
    "      crrSsim = scores_ssim[thresh][0]\n",
    "plt.plot(far_ssim, frr_ssim)\n",
    "plt.xlabel('False Acceptance Rate')\n",
    "plt.ylabel('False Rejection Rate')\n",
    "plt.show()\n",
    "print(\"eer_diff=\",eer_diff_ssim,\" eer_thresh=\",eer_thresh_ssim)"
   ]
  },
  {
   "cell_type": "code",
   "execution_count": null,
   "metadata": {
    "colab": {
     "base_uri": "https://localhost:8080/"
    },
    "id": "s6ZCnQAk72Kq",
    "outputId": "ef726b90-9c8a-4f2b-ab4f-20d17e8c9549"
   },
   "outputs": [],
   "source": [
    "crrSsim"
   ]
  },
  {
   "cell_type": "markdown",
   "metadata": {
    "id": "E72kOEkd5t1H"
   },
   "source": [
    "# Combined ROC curve"
   ]
  },
  {
   "cell_type": "code",
   "execution_count": null,
   "metadata": {
    "colab": {
     "base_uri": "https://localhost:8080/",
     "height": 296
    },
    "id": "pSFFdALgGN-d",
    "outputId": "28277b4f-aa0a-417f-fb3a-6e7f69bf586e"
   },
   "outputs": [],
   "source": [
    "plt.plot(far_sift,frr_sift, label=\"SIFT\")\n",
    "plt.plot(far_surf,frr_surf, label=\"SURF\")\n",
    "plt.plot(far_arc,frr_arc, label=\"ArcFace\")\n",
    "plt.plot(far_orb,frr_orb, label=\"ORB\")\n",
    "plt.plot(far_akaze,frr_akaze, label=\"AKAZE\")\n",
    "plt.plot(far_brisk,frr_brisk, label=\"BRISK\")\n",
    "plt.plot(far_ssim,frr_ssim, label=\"SSIM\")\n",
    "plt.xlabel('False Acceptance Rate')\n",
    "plt.ylabel('False Rejection Rate')\n",
    "plt.legend(loc='upper right')"
   ]
  }
 ],
 "metadata": {
  "accelerator": "GPU",
  "colab": {
   "collapsed_sections": [],
   "name": "Pritika_Ramu_2019A7PS1140P_DL_Assignment.ipynb",
   "provenance": []
  },
  "kernelspec": {
   "display_name": "Python 3",
   "language": "python",
   "name": "python3"
  },
  "language_info": {
   "codemirror_mode": {
    "name": "ipython",
    "version": 3
   },
   "file_extension": ".py",
   "mimetype": "text/x-python",
   "name": "python",
   "nbconvert_exporter": "python",
   "pygments_lexer": "ipython3",
   "version": "3.8.5"
  }
 },
 "nbformat": 4,
 "nbformat_minor": 1
}
